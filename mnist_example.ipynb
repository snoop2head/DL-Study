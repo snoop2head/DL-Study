{
 "cells": [
  {
   "cell_type": "code",
   "execution_count": 79,
   "source": [
    "import torch\n",
    "\n",
    "# import basic components\n",
    "import torch.nn as nn\n",
    "\n",
    "# import functions\n",
    "import torch.nn.functional as F\n",
    "\n",
    "# bring optimizers from torch\n",
    "import torch.optim as optim\n",
    "\n",
    "# import dataset structuring and image transformation modules\n",
    "from torchvision import datasets, transforms\n",
    "\n",
    "from matplotlib import pyplot as plt\n",
    "%matplotlib inline # matplotlib config for jupyter notebook"
   ],
   "outputs": [
    {
     "output_type": "stream",
     "name": "stderr",
     "text": [
      "UsageError: unrecognized arguments: # matplotlib config for jupyter notebook\n"
     ]
    }
   ],
   "metadata": {}
  },
  {
   "cell_type": "code",
   "execution_count": 80,
   "source": [
    "# Setting device\n",
    "is_cuda = torch.cuda.is_available()\n",
    "device = torch.device('cuda' if is_cuda else 'cpu')\n",
    "\n",
    "print ('Current cuda device is', device)"
   ],
   "outputs": [
    {
     "output_type": "stream",
     "name": "stdout",
     "text": [
      "Current cuda device is cpu\n"
     ]
    }
   ],
   "metadata": {}
  },
  {
   "cell_type": "code",
   "execution_count": 81,
   "source": [
    "# Hyperparameter Setting\n",
    "MINI_BATCH_SIZE = 50 # numbers of images in a mini-batch\n",
    "LEARNING_RATE = 0.0001\n",
    "EPOCHS = 15"
   ],
   "outputs": [],
   "metadata": {}
  },
  {
   "cell_type": "code",
   "execution_count": 82,
   "source": [
    "# Load dataset \n",
    "train_data = datasets.MNIST(root = './data', train = True, download = False, transform = transforms.ToTensor())\n",
    "test_data = datasets.MNIST(root = './data', train = False, transform = transforms.ToTensor())\n",
    "\n",
    "print('number of training data: ', len(train_data))\n",
    "print('number of test data: ', len(test_data))"
   ],
   "outputs": [
    {
     "output_type": "stream",
     "name": "stdout",
     "text": [
      "number of training data:  60000\n",
      "number of test data:  10000\n"
     ]
    }
   ],
   "metadata": {}
  },
  {
   "cell_type": "code",
   "execution_count": 83,
   "source": [
    "# get image data and label\n",
    "img_3d_channel, label = train_data[4]"
   ],
   "outputs": [],
   "metadata": {}
  },
  {
   "cell_type": "code",
   "execution_count": 84,
   "source": [
    "# show image from training data\n",
    "plt.imshow(img_3d_channel.squeeze().numpy(), cmap = 'gray')\n",
    "plt.title(f'label is {label}')\n",
    "plt.show()"
   ],
   "outputs": [
    {
     "output_type": "display_data",
     "data": {
      "text/plain": [
       "<Figure size 432x288 with 1 Axes>"
      ],
      "image/svg+xml": "<?xml version=\"1.0\" encoding=\"utf-8\" standalone=\"no\"?>\n<!DOCTYPE svg PUBLIC \"-//W3C//DTD SVG 1.1//EN\"\n  \"http://www.w3.org/Graphics/SVG/1.1/DTD/svg11.dtd\">\n<svg height=\"263.63625pt\" version=\"1.1\" viewBox=\"0 0 251.565 263.63625\" width=\"251.565pt\" xmlns=\"http://www.w3.org/2000/svg\" xmlns:xlink=\"http://www.w3.org/1999/xlink\">\n <metadata>\n  <rdf:RDF xmlns:cc=\"http://creativecommons.org/ns#\" xmlns:dc=\"http://purl.org/dc/elements/1.1/\" xmlns:rdf=\"http://www.w3.org/1999/02/22-rdf-syntax-ns#\">\n   <cc:Work>\n    <dc:type rdf:resource=\"http://purl.org/dc/dcmitype/StillImage\"/>\n    <dc:date>2021-08-11T18:20:24.564279</dc:date>\n    <dc:format>image/svg+xml</dc:format>\n    <dc:creator>\n     <cc:Agent>\n      <dc:title>Matplotlib v3.4.2, https://matplotlib.org/</dc:title>\n     </cc:Agent>\n    </dc:creator>\n   </cc:Work>\n  </rdf:RDF>\n </metadata>\n <defs>\n  <style type=\"text/css\">*{stroke-linecap:butt;stroke-linejoin:round;}</style>\n </defs>\n <g id=\"figure_1\">\n  <g id=\"patch_1\">\n   <path d=\"M 0 263.63625 \nL 251.565 263.63625 \nL 251.565 0 \nL 0 0 \nz\n\" style=\"fill:none;\"/>\n  </g>\n  <g id=\"axes_1\">\n   <g id=\"patch_2\">\n    <path d=\"M 26.925 239.758125 \nL 244.365 239.758125 \nL 244.365 22.318125 \nL 26.925 22.318125 \nz\n\" style=\"fill:#ffffff;\"/>\n   </g>\n   <g clip-path=\"url(#p6826bfe488)\">\n    <image height=\"218\" id=\"image5a694d22c4\" transform=\"scale(1 -1)translate(0 -218)\" width=\"218\" x=\"26.925\" xlink:href=\"data:image/png;base64,\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\" y=\"-21.758125\"/>\n   </g>\n   <g id=\"matplotlib.axis_1\">\n    <g id=\"xtick_1\">\n     <g id=\"line2d_1\">\n      <defs>\n       <path d=\"M 0 0 \nL 0 3.5 \n\" id=\"m123751cae9\" style=\"stroke:#000000;stroke-width:0.8;\"/>\n      </defs>\n      <g>\n       <use style=\"stroke:#000000;stroke-width:0.8;\" x=\"30.807857\" xlink:href=\"#m123751cae9\" y=\"239.758125\"/>\n      </g>\n     </g>\n     <g id=\"text_1\">\n      <!-- 0 -->\n      <g transform=\"translate(27.626607 254.356563)scale(0.1 -0.1)\">\n       <defs>\n        <path d=\"M 2034 4250 \nQ 1547 4250 1301 3770 \nQ 1056 3291 1056 2328 \nQ 1056 1369 1301 889 \nQ 1547 409 2034 409 \nQ 2525 409 2770 889 \nQ 3016 1369 3016 2328 \nQ 3016 3291 2770 3770 \nQ 2525 4250 2034 4250 \nz\nM 2034 4750 \nQ 2819 4750 3233 4129 \nQ 3647 3509 3647 2328 \nQ 3647 1150 3233 529 \nQ 2819 -91 2034 -91 \nQ 1250 -91 836 529 \nQ 422 1150 422 2328 \nQ 422 3509 836 4129 \nQ 1250 4750 2034 4750 \nz\n\" id=\"DejaVuSans-30\" transform=\"scale(0.015625)\"/>\n       </defs>\n       <use xlink:href=\"#DejaVuSans-30\"/>\n      </g>\n     </g>\n    </g>\n    <g id=\"xtick_2\">\n     <g id=\"line2d_2\">\n      <g>\n       <use style=\"stroke:#000000;stroke-width:0.8;\" x=\"69.636429\" xlink:href=\"#m123751cae9\" y=\"239.758125\"/>\n      </g>\n     </g>\n     <g id=\"text_2\">\n      <!-- 5 -->\n      <g transform=\"translate(66.455179 254.356563)scale(0.1 -0.1)\">\n       <defs>\n        <path d=\"M 691 4666 \nL 3169 4666 \nL 3169 4134 \nL 1269 4134 \nL 1269 2991 \nQ 1406 3038 1543 3061 \nQ 1681 3084 1819 3084 \nQ 2600 3084 3056 2656 \nQ 3513 2228 3513 1497 \nQ 3513 744 3044 326 \nQ 2575 -91 1722 -91 \nQ 1428 -91 1123 -41 \nQ 819 9 494 109 \nL 494 744 \nQ 775 591 1075 516 \nQ 1375 441 1709 441 \nQ 2250 441 2565 725 \nQ 2881 1009 2881 1497 \nQ 2881 1984 2565 2268 \nQ 2250 2553 1709 2553 \nQ 1456 2553 1204 2497 \nQ 953 2441 691 2322 \nL 691 4666 \nz\n\" id=\"DejaVuSans-35\" transform=\"scale(0.015625)\"/>\n       </defs>\n       <use xlink:href=\"#DejaVuSans-35\"/>\n      </g>\n     </g>\n    </g>\n    <g id=\"xtick_3\">\n     <g id=\"line2d_3\">\n      <g>\n       <use style=\"stroke:#000000;stroke-width:0.8;\" x=\"108.465\" xlink:href=\"#m123751cae9\" y=\"239.758125\"/>\n      </g>\n     </g>\n     <g id=\"text_3\">\n      <!-- 10 -->\n      <g transform=\"translate(102.1025 254.356563)scale(0.1 -0.1)\">\n       <defs>\n        <path d=\"M 794 531 \nL 1825 531 \nL 1825 4091 \nL 703 3866 \nL 703 4441 \nL 1819 4666 \nL 2450 4666 \nL 2450 531 \nL 3481 531 \nL 3481 0 \nL 794 0 \nL 794 531 \nz\n\" id=\"DejaVuSans-31\" transform=\"scale(0.015625)\"/>\n       </defs>\n       <use xlink:href=\"#DejaVuSans-31\"/>\n       <use x=\"63.623047\" xlink:href=\"#DejaVuSans-30\"/>\n      </g>\n     </g>\n    </g>\n    <g id=\"xtick_4\">\n     <g id=\"line2d_4\">\n      <g>\n       <use style=\"stroke:#000000;stroke-width:0.8;\" x=\"147.293571\" xlink:href=\"#m123751cae9\" y=\"239.758125\"/>\n      </g>\n     </g>\n     <g id=\"text_4\">\n      <!-- 15 -->\n      <g transform=\"translate(140.931071 254.356563)scale(0.1 -0.1)\">\n       <use xlink:href=\"#DejaVuSans-31\"/>\n       <use x=\"63.623047\" xlink:href=\"#DejaVuSans-35\"/>\n      </g>\n     </g>\n    </g>\n    <g id=\"xtick_5\">\n     <g id=\"line2d_5\">\n      <g>\n       <use style=\"stroke:#000000;stroke-width:0.8;\" x=\"186.122143\" xlink:href=\"#m123751cae9\" y=\"239.758125\"/>\n      </g>\n     </g>\n     <g id=\"text_5\">\n      <!-- 20 -->\n      <g transform=\"translate(179.759643 254.356563)scale(0.1 -0.1)\">\n       <defs>\n        <path d=\"M 1228 531 \nL 3431 531 \nL 3431 0 \nL 469 0 \nL 469 531 \nQ 828 903 1448 1529 \nQ 2069 2156 2228 2338 \nQ 2531 2678 2651 2914 \nQ 2772 3150 2772 3378 \nQ 2772 3750 2511 3984 \nQ 2250 4219 1831 4219 \nQ 1534 4219 1204 4116 \nQ 875 4013 500 3803 \nL 500 4441 \nQ 881 4594 1212 4672 \nQ 1544 4750 1819 4750 \nQ 2544 4750 2975 4387 \nQ 3406 4025 3406 3419 \nQ 3406 3131 3298 2873 \nQ 3191 2616 2906 2266 \nQ 2828 2175 2409 1742 \nQ 1991 1309 1228 531 \nz\n\" id=\"DejaVuSans-32\" transform=\"scale(0.015625)\"/>\n       </defs>\n       <use xlink:href=\"#DejaVuSans-32\"/>\n       <use x=\"63.623047\" xlink:href=\"#DejaVuSans-30\"/>\n      </g>\n     </g>\n    </g>\n    <g id=\"xtick_6\">\n     <g id=\"line2d_6\">\n      <g>\n       <use style=\"stroke:#000000;stroke-width:0.8;\" x=\"224.950714\" xlink:href=\"#m123751cae9\" y=\"239.758125\"/>\n      </g>\n     </g>\n     <g id=\"text_6\">\n      <!-- 25 -->\n      <g transform=\"translate(218.588214 254.356563)scale(0.1 -0.1)\">\n       <use xlink:href=\"#DejaVuSans-32\"/>\n       <use x=\"63.623047\" xlink:href=\"#DejaVuSans-35\"/>\n      </g>\n     </g>\n    </g>\n   </g>\n   <g id=\"matplotlib.axis_2\">\n    <g id=\"ytick_1\">\n     <g id=\"line2d_7\">\n      <defs>\n       <path d=\"M 0 0 \nL -3.5 0 \n\" id=\"m1991f125cc\" style=\"stroke:#000000;stroke-width:0.8;\"/>\n      </defs>\n      <g>\n       <use style=\"stroke:#000000;stroke-width:0.8;\" x=\"26.925\" xlink:href=\"#m1991f125cc\" y=\"26.200982\"/>\n      </g>\n     </g>\n     <g id=\"text_7\">\n      <!-- 0 -->\n      <g transform=\"translate(13.5625 30.000201)scale(0.1 -0.1)\">\n       <use xlink:href=\"#DejaVuSans-30\"/>\n      </g>\n     </g>\n    </g>\n    <g id=\"ytick_2\">\n     <g id=\"line2d_8\">\n      <g>\n       <use style=\"stroke:#000000;stroke-width:0.8;\" x=\"26.925\" xlink:href=\"#m1991f125cc\" y=\"65.029554\"/>\n      </g>\n     </g>\n     <g id=\"text_8\">\n      <!-- 5 -->\n      <g transform=\"translate(13.5625 68.828772)scale(0.1 -0.1)\">\n       <use xlink:href=\"#DejaVuSans-35\"/>\n      </g>\n     </g>\n    </g>\n    <g id=\"ytick_3\">\n     <g id=\"line2d_9\">\n      <g>\n       <use style=\"stroke:#000000;stroke-width:0.8;\" x=\"26.925\" xlink:href=\"#m1991f125cc\" y=\"103.858125\"/>\n      </g>\n     </g>\n     <g id=\"text_9\">\n      <!-- 10 -->\n      <g transform=\"translate(7.2 107.657344)scale(0.1 -0.1)\">\n       <use xlink:href=\"#DejaVuSans-31\"/>\n       <use x=\"63.623047\" xlink:href=\"#DejaVuSans-30\"/>\n      </g>\n     </g>\n    </g>\n    <g id=\"ytick_4\">\n     <g id=\"line2d_10\">\n      <g>\n       <use style=\"stroke:#000000;stroke-width:0.8;\" x=\"26.925\" xlink:href=\"#m1991f125cc\" y=\"142.686696\"/>\n      </g>\n     </g>\n     <g id=\"text_10\">\n      <!-- 15 -->\n      <g transform=\"translate(7.2 146.485915)scale(0.1 -0.1)\">\n       <use xlink:href=\"#DejaVuSans-31\"/>\n       <use x=\"63.623047\" xlink:href=\"#DejaVuSans-35\"/>\n      </g>\n     </g>\n    </g>\n    <g id=\"ytick_5\">\n     <g id=\"line2d_11\">\n      <g>\n       <use style=\"stroke:#000000;stroke-width:0.8;\" x=\"26.925\" xlink:href=\"#m1991f125cc\" y=\"181.515268\"/>\n      </g>\n     </g>\n     <g id=\"text_11\">\n      <!-- 20 -->\n      <g transform=\"translate(7.2 185.314487)scale(0.1 -0.1)\">\n       <use xlink:href=\"#DejaVuSans-32\"/>\n       <use x=\"63.623047\" xlink:href=\"#DejaVuSans-30\"/>\n      </g>\n     </g>\n    </g>\n    <g id=\"ytick_6\">\n     <g id=\"line2d_12\">\n      <g>\n       <use style=\"stroke:#000000;stroke-width:0.8;\" x=\"26.925\" xlink:href=\"#m1991f125cc\" y=\"220.343839\"/>\n      </g>\n     </g>\n     <g id=\"text_12\">\n      <!-- 25 -->\n      <g transform=\"translate(7.2 224.143058)scale(0.1 -0.1)\">\n       <use xlink:href=\"#DejaVuSans-32\"/>\n       <use x=\"63.623047\" xlink:href=\"#DejaVuSans-35\"/>\n      </g>\n     </g>\n    </g>\n   </g>\n   <g id=\"patch_3\">\n    <path d=\"M 26.925 239.758125 \nL 26.925 22.318125 \n\" style=\"fill:none;stroke:#000000;stroke-linecap:square;stroke-linejoin:miter;stroke-width:0.8;\"/>\n   </g>\n   <g id=\"patch_4\">\n    <path d=\"M 244.365 239.758125 \nL 244.365 22.318125 \n\" style=\"fill:none;stroke:#000000;stroke-linecap:square;stroke-linejoin:miter;stroke-width:0.8;\"/>\n   </g>\n   <g id=\"patch_5\">\n    <path d=\"M 26.925 239.758125 \nL 244.365 239.758125 \n\" style=\"fill:none;stroke:#000000;stroke-linecap:square;stroke-linejoin:miter;stroke-width:0.8;\"/>\n   </g>\n   <g id=\"patch_6\">\n    <path d=\"M 26.925 22.318125 \nL 244.365 22.318125 \n\" style=\"fill:none;stroke:#000000;stroke-linecap:square;stroke-linejoin:miter;stroke-width:0.8;\"/>\n   </g>\n   <g id=\"text_13\">\n    <!-- label is 9 -->\n    <g transform=\"translate(108.709687 16.318125)scale(0.12 -0.12)\">\n     <defs>\n      <path d=\"M 603 4863 \nL 1178 4863 \nL 1178 0 \nL 603 0 \nL 603 4863 \nz\n\" id=\"DejaVuSans-6c\" transform=\"scale(0.015625)\"/>\n      <path d=\"M 2194 1759 \nQ 1497 1759 1228 1600 \nQ 959 1441 959 1056 \nQ 959 750 1161 570 \nQ 1363 391 1709 391 \nQ 2188 391 2477 730 \nQ 2766 1069 2766 1631 \nL 2766 1759 \nL 2194 1759 \nz\nM 3341 1997 \nL 3341 0 \nL 2766 0 \nL 2766 531 \nQ 2569 213 2275 61 \nQ 1981 -91 1556 -91 \nQ 1019 -91 701 211 \nQ 384 513 384 1019 \nQ 384 1609 779 1909 \nQ 1175 2209 1959 2209 \nL 2766 2209 \nL 2766 2266 \nQ 2766 2663 2505 2880 \nQ 2244 3097 1772 3097 \nQ 1472 3097 1187 3025 \nQ 903 2953 641 2809 \nL 641 3341 \nQ 956 3463 1253 3523 \nQ 1550 3584 1831 3584 \nQ 2591 3584 2966 3190 \nQ 3341 2797 3341 1997 \nz\n\" id=\"DejaVuSans-61\" transform=\"scale(0.015625)\"/>\n      <path d=\"M 3116 1747 \nQ 3116 2381 2855 2742 \nQ 2594 3103 2138 3103 \nQ 1681 3103 1420 2742 \nQ 1159 2381 1159 1747 \nQ 1159 1113 1420 752 \nQ 1681 391 2138 391 \nQ 2594 391 2855 752 \nQ 3116 1113 3116 1747 \nz\nM 1159 2969 \nQ 1341 3281 1617 3432 \nQ 1894 3584 2278 3584 \nQ 2916 3584 3314 3078 \nQ 3713 2572 3713 1747 \nQ 3713 922 3314 415 \nQ 2916 -91 2278 -91 \nQ 1894 -91 1617 61 \nQ 1341 213 1159 525 \nL 1159 0 \nL 581 0 \nL 581 4863 \nL 1159 4863 \nL 1159 2969 \nz\n\" id=\"DejaVuSans-62\" transform=\"scale(0.015625)\"/>\n      <path d=\"M 3597 1894 \nL 3597 1613 \nL 953 1613 \nQ 991 1019 1311 708 \nQ 1631 397 2203 397 \nQ 2534 397 2845 478 \nQ 3156 559 3463 722 \nL 3463 178 \nQ 3153 47 2828 -22 \nQ 2503 -91 2169 -91 \nQ 1331 -91 842 396 \nQ 353 884 353 1716 \nQ 353 2575 817 3079 \nQ 1281 3584 2069 3584 \nQ 2775 3584 3186 3129 \nQ 3597 2675 3597 1894 \nz\nM 3022 2063 \nQ 3016 2534 2758 2815 \nQ 2500 3097 2075 3097 \nQ 1594 3097 1305 2825 \nQ 1016 2553 972 2059 \nL 3022 2063 \nz\n\" id=\"DejaVuSans-65\" transform=\"scale(0.015625)\"/>\n      <path id=\"DejaVuSans-20\" transform=\"scale(0.015625)\"/>\n      <path d=\"M 603 3500 \nL 1178 3500 \nL 1178 0 \nL 603 0 \nL 603 3500 \nz\nM 603 4863 \nL 1178 4863 \nL 1178 4134 \nL 603 4134 \nL 603 4863 \nz\n\" id=\"DejaVuSans-69\" transform=\"scale(0.015625)\"/>\n      <path d=\"M 2834 3397 \nL 2834 2853 \nQ 2591 2978 2328 3040 \nQ 2066 3103 1784 3103 \nQ 1356 3103 1142 2972 \nQ 928 2841 928 2578 \nQ 928 2378 1081 2264 \nQ 1234 2150 1697 2047 \nL 1894 2003 \nQ 2506 1872 2764 1633 \nQ 3022 1394 3022 966 \nQ 3022 478 2636 193 \nQ 2250 -91 1575 -91 \nQ 1294 -91 989 -36 \nQ 684 19 347 128 \nL 347 722 \nQ 666 556 975 473 \nQ 1284 391 1588 391 \nQ 1994 391 2212 530 \nQ 2431 669 2431 922 \nQ 2431 1156 2273 1281 \nQ 2116 1406 1581 1522 \nL 1381 1569 \nQ 847 1681 609 1914 \nQ 372 2147 372 2553 \nQ 372 3047 722 3315 \nQ 1072 3584 1716 3584 \nQ 2034 3584 2315 3537 \nQ 2597 3491 2834 3397 \nz\n\" id=\"DejaVuSans-73\" transform=\"scale(0.015625)\"/>\n      <path d=\"M 703 97 \nL 703 672 \nQ 941 559 1184 500 \nQ 1428 441 1663 441 \nQ 2288 441 2617 861 \nQ 2947 1281 2994 2138 \nQ 2813 1869 2534 1725 \nQ 2256 1581 1919 1581 \nQ 1219 1581 811 2004 \nQ 403 2428 403 3163 \nQ 403 3881 828 4315 \nQ 1253 4750 1959 4750 \nQ 2769 4750 3195 4129 \nQ 3622 3509 3622 2328 \nQ 3622 1225 3098 567 \nQ 2575 -91 1691 -91 \nQ 1453 -91 1209 -44 \nQ 966 3 703 97 \nz\nM 1959 2075 \nQ 2384 2075 2632 2365 \nQ 2881 2656 2881 3163 \nQ 2881 3666 2632 3958 \nQ 2384 4250 1959 4250 \nQ 1534 4250 1286 3958 \nQ 1038 3666 1038 3163 \nQ 1038 2656 1286 2365 \nQ 1534 2075 1959 2075 \nz\n\" id=\"DejaVuSans-39\" transform=\"scale(0.015625)\"/>\n     </defs>\n     <use xlink:href=\"#DejaVuSans-6c\"/>\n     <use x=\"27.783203\" xlink:href=\"#DejaVuSans-61\"/>\n     <use x=\"89.0625\" xlink:href=\"#DejaVuSans-62\"/>\n     <use x=\"152.539062\" xlink:href=\"#DejaVuSans-65\"/>\n     <use x=\"214.0625\" xlink:href=\"#DejaVuSans-6c\"/>\n     <use x=\"241.845703\" xlink:href=\"#DejaVuSans-20\"/>\n     <use x=\"273.632812\" xlink:href=\"#DejaVuSans-69\"/>\n     <use x=\"301.416016\" xlink:href=\"#DejaVuSans-73\"/>\n     <use x=\"353.515625\" xlink:href=\"#DejaVuSans-20\"/>\n     <use x=\"385.302734\" xlink:href=\"#DejaVuSans-39\"/>\n    </g>\n   </g>\n  </g>\n </g>\n <defs>\n  <clipPath id=\"p6826bfe488\">\n   <rect height=\"217.44\" width=\"217.44\" x=\"26.925\" y=\"22.318125\"/>\n  </clipPath>\n </defs>\n</svg>\n",
      "image/png": "[encoded data removed]"
     },
     "metadata": {
      "needs_background": "light"
     }
    }
   ],
   "metadata": {}
  },
  {
   "cell_type": "code",
   "execution_count": 85,
   "source": [
    "# (channel, height, width) = (1, 28, 28)\n",
    "# channel is 1 because MNIST is grayscale image\n",
    "print(img_3d_channel.shape)\n",
    "\n",
    "# change (1, 28, 28) tensor to (28, 28) tensor\n",
    "# (channel, height, width) -> (height, width)\n",
    "img_2d_channel = img_3d_channel.squeeze()\n",
    "\n",
    "# transform tensor format to numpy format\n",
    "array_sample_image = img_2d_channel.numpy()\n",
    "\n",
    "# Check shape of the mnist image which is 28 x 28\n",
    "array_sample_image.shape"
   ],
   "outputs": [
    {
     "output_type": "stream",
     "name": "stdout",
     "text": [
      "torch.Size([1, 28, 28])\n"
     ]
    },
    {
     "output_type": "execute_result",
     "data": {
      "text/plain": [
       "(28, 28)"
      ]
     },
     "metadata": {},
     "execution_count": 85
    }
   ],
   "metadata": {}
  },
  {
   "cell_type": "code",
   "execution_count": 86,
   "source": [
    "import numpy as np\n",
    "\n",
    "# check distribution of values in numpy array\n",
    "\n",
    "print(f\"Min: {np.min(array_sample_image)}, Mean:{np.mean(array_sample_image)}, Max: {np.max(array_sample_image)}\")"
   ],
   "outputs": [
    {
     "output_type": "stream",
     "name": "stdout",
     "text": [
      "Min: 0.0, Mean:0.11611644923686981, Max: 1.0\n"
     ]
    }
   ],
   "metadata": {}
  },
  {
   "cell_type": "code",
   "execution_count": 87,
   "source": [
    "# show (maximum - minimum) values along an axis across an array.\n",
    "# https://www.sharpsightlabs.com/blog/numpy-axes-explained/\n",
    "\n",
    "COLUMN_AXIS = 0\n",
    "ROW_AXIS = 1\n",
    "range_pixels = np.ptp(array_image, axis=COLUMN_AXIS)\n",
    "\n",
    "# sort range pixels array\n",
    "# https://rfriend.tistory.com/357\n",
    "print(np.sort(range_pixels))"
   ],
   "outputs": [
    {
     "output_type": "stream",
     "name": "stdout",
     "text": [
      "[0.         0.         0.         0.         0.         0.\n",
      " 0.         0.         0.         0.         0.         0.\n",
      " 0.         0.08627451 0.65882355 0.9882353  0.9882353  0.9882353\n",
      " 0.9882353  0.9882353  0.9882353  0.99215686 0.99215686 0.99215686\n",
      " 0.99215686 0.99215686 0.99215686 1.        ]\n"
     ]
    }
   ],
   "metadata": {}
  },
  {
   "cell_type": "markdown",
   "source": [],
   "metadata": {}
  },
  {
   "cell_type": "code",
   "execution_count": 88,
   "source": [
    "# using torch dataloader to divide dataset into mini-batch\n",
    "# https://pytorch.org/docs/stable/data.html\n",
    "train_loader = torch.utils.data.DataLoader(\n",
    "  dataset = train_data, \n",
    "  batch_size = MINI_BATCH_SIZE, \n",
    "  shuffle = True\n",
    "  )\n",
    "test_loader  = torch.utils.data.DataLoader(\n",
    "  dataset = test_data, \n",
    "  batch_size = MINI_BATCH_SIZE, \n",
    "  shuffle = True\n",
    "  )\n",
    "\n",
    "first_batch = train_loader.__iter__().__next__()\n",
    "# 50 is mini-batch size\n",
    "print('{:<21s} | {:<25s} | {}'.format('name', 'type', 'size')) # 21s and 25s is character spaces of string\n",
    "print('{:<21s} | {:<25s} | {}'.format('Number of Mini-Batchs', '', len(train_loader)))\n",
    "print('{:<21s} | {:<25s} | {}'.format('first_batch', str(type(first_batch)), len(first_batch)))\n",
    "print('{:<21s} | {:<25s} | {}'.format('first_batch[0]', str(type(first_batch[0])), first_batch[0].shape))\n",
    "print('{:<21s} | {:<25s} | {}'.format('first_batch[1]', str(type(first_batch[1])), first_batch[1].shape))"
   ],
   "outputs": [
    {
     "output_type": "stream",
     "name": "stdout",
     "text": [
      "name                  | type                      | size\n",
      "Number of Mini-Batchs |                           | 1200\n",
      "first_batch           | <class 'list'>            | 2\n",
      "first_batch[0]        | <class 'torch.Tensor'>    | torch.Size([50, 1, 28, 28])\n",
      "first_batch[1]        | <class 'torch.Tensor'>    | torch.Size([50])\n"
     ]
    }
   ],
   "metadata": {}
  },
  {
   "cell_type": "code",
   "execution_count": 93,
   "source": [
    "# Basic Convolutional Neural Network (ConvolutionalNeuralNetwork) Class\n",
    "class ConvolutionalNeuralNetwork(nn.Module): # extending from nn.Module class\n",
    "    \"\"\" \n",
    "    Source: https://github.com/pytorch/examples/blob/master/mnist/main.py\n",
    "    \"\"\"\n",
    "    def __init__(self):\n",
    "        \"\"\" Configuration for the model \"\"\"\n",
    "        # Initializing weights for the sake of weights' randomness\n",
    "        # https://stats.stackexchange.com/questions/45087/why-doesnt-backpropagation-work-when-you-initialize-the-weights-the-same-value\n",
    "        super(ConvolutionalNeuralNetwork, self).__init__()\n",
    "        \n",
    "        # Convolutional Layer configuration\n",
    "        self.conv1 = nn.Conv2d(\n",
    "            in_channels = 1, \n",
    "            out_channels = 32, \n",
    "            kernel_size = 3, \n",
    "            stride = 1\n",
    "        )\n",
    "        self.conv2 = nn.Conv2d(\n",
    "            in_channels = 32, \n",
    "            out_channels = 64, \n",
    "            kernel_size = 3, \n",
    "            stride = 1)\n",
    "        \n",
    "        # Designating dropout configuration\n",
    "        self.dropout1 = nn.Dropout2d(0.25)\n",
    "        self.dropout2 = nn.Dropout2d(0.5)\n",
    "        \n",
    "        # Fully Connected Layers configuration\n",
    "        self.fc1 = nn.Linear(\n",
    "            in_features = 9216, \n",
    "            out_features = 128\n",
    "            )\n",
    "        self.fc2 = nn.Linear(\n",
    "            in_features = 128, \n",
    "            out_features = 10 # MNIST labels 0 ~ 9\n",
    "            )\n",
    "\n",
    "    def forward(self, x):\n",
    "        \"\"\" Forward pass of the model using predefined configuration settings on ConvolutionalNeuralNetwork \"\"\"\n",
    "        # Stack Convolutional layers\n",
    "        x = self.conv1(x) # using class' own function\n",
    "        x = F.relu(x) # using torch.nn.functional function\n",
    "        x = self.conv2(x)\n",
    "        x = F.relu(x)\n",
    "        x = F.max_pool2d(x, 2)\n",
    "        x = self.dropout1(x)\n",
    "        \n",
    "        # Flattens input by reshaping it into a one-dimensional tensor\n",
    "        x = torch.flatten(x, start_dim = 1) # using torch's function: https://pytorch.org/docs/stable/generated/torch.flatten.html\n",
    "        \n",
    "        # Go through Fully Connected Layers\n",
    "        x = self.fc1(x)\n",
    "        x = F.relu(x)\n",
    "        x = self.dropout2(x)\n",
    "        x = self.fc2(x)\n",
    "        output = F.log_softmax(x, dim=1)\n",
    "        return output"
   ],
   "outputs": [],
   "metadata": {}
  },
  {
   "cell_type": "code",
   "execution_count": 94,
   "source": [
    "# Creating Model instance with preconfigured class\n",
    "model = ConvolutionalNeuralNetwork().to(device)\n",
    "\n",
    "# Defining optimizer\n",
    "optimizer = optim.Adam(model.parameters(), lr = LEARNING_RATE)\n",
    "\n",
    "# Using Cross entropy loss function\n",
    "criterion = nn.CrossEntropyLoss()"
   ],
   "outputs": [],
   "metadata": {}
  },
  {
   "cell_type": "code",
   "execution_count": 95,
   "source": [
    "# Print model's architecture\n",
    "print(model)"
   ],
   "outputs": [
    {
     "output_type": "stream",
     "name": "stdout",
     "text": [
      "ConvolutionalNeuralNetwork(\n",
      "  (conv1): Conv2d(1, 32, kernel_size=(3, 3), stride=(1, 1))\n",
      "  (conv2): Conv2d(32, 64, kernel_size=(3, 3), stride=(1, 1))\n",
      "  (dropout1): Dropout2d(p=0.25, inplace=False)\n",
      "  (dropout2): Dropout2d(p=0.5, inplace=False)\n",
      "  (fc1): Linear(in_features=9216, out_features=128, bias=True)\n",
      "  (fc2): Linear(in_features=128, out_features=10, bias=True)\n",
      ")\n"
     ]
    }
   ],
   "metadata": {}
  },
  {
   "cell_type": "code",
   "execution_count": 97,
   "source": [
    "\"\"\" Training the model \"\"\"\n",
    "\n",
    "# Change the model to training mode\n",
    "model.train()\n",
    "\n",
    "# A training step is one gradient update. In one step batch_size many examples are processed.\n",
    "# training step = dataset size / mini-batch size\n",
    "# https://stackoverflow.com/questions/38340311/what-is-the-difference-between-steps-and-epochs-in-tensorflow\n",
    "int_training_step = 1\n",
    "\n",
    "# Updating Gradient in each training steps\n",
    "for epoch in range(EPOCHS):\n",
    "    for data, target_tensor in train_loader: # bringing dataset from train_loader() function\n",
    "        # data is [Batch Size = 50, Channel Size = 1, Height = 28, Width = 28] tensor\n",
    "        data = data.to(device)\n",
    "        # Tagets is label [Labels = 50] tensor\n",
    "        target_tensor = target_tensor.to(device)\n",
    "        \n",
    "        # Gradient Descent process\n",
    "        optimizer.zero_grad() # initializing previously saved gradient's value to zero # https://jaeyung1001.tistory.com/115\n",
    "        output = model(data) # feed forward to get one-hot-encoded output probabilities\n",
    "        loss = criterion(output, target_tensor) # comparing prediction and ground truth to get loss\n",
    "        loss.backward() # backpropagating loss\n",
    "        optimizer.step() # updating weights with single optimization step\n",
    "\n",
    "        # print status every 1000 training steps\n",
    "        if int_training_step % 1000 == 0:\n",
    "            loss_rounded_to_3 = round(loss.item() * 1000) / 1000 # loss is a single value, so we need to round it to 3 digits\n",
    "            print(f'Train Step: {int_training_step} \\t Loss: {loss_rounded_to_3}')\n",
    "        int_training_step += 1"
   ],
   "outputs": [
    {
     "output_type": "stream",
     "name": "stdout",
     "text": [
      "Train Step: 1000 \t Loss: 0.573\n",
      "Train Step: 2000 \t Loss: 0.239\n",
      "Train Step: 3000 \t Loss: 0.197\n",
      "Train Step: 4000 \t Loss: 0.062\n",
      "Train Step: 5000 \t Loss: 0.21\n",
      "Train Step: 6000 \t Loss: 0.039\n",
      "Train Step: 7000 \t Loss: 0.016\n",
      "Train Step: 8000 \t Loss: 0.084\n",
      "Train Step: 9000 \t Loss: 0.008\n",
      "Train Step: 10000 \t Loss: 0.05\n",
      "Train Step: 11000 \t Loss: 0.062\n",
      "Train Step: 12000 \t Loss: 0.042\n",
      "Train Step: 13000 \t Loss: 0.066\n",
      "Train Step: 14000 \t Loss: 0.077\n",
      "Train Step: 15000 \t Loss: 0.129\n",
      "Train Step: 16000 \t Loss: 0.007\n",
      "Train Step: 17000 \t Loss: 0.015\n",
      "Train Step: 18000 \t Loss: 0.07\n"
     ]
    }
   ],
   "metadata": {}
  },
  {
   "cell_type": "code",
   "execution_count": null,
   "source": [],
   "outputs": [],
   "metadata": {}
  },
  {
   "cell_type": "code",
   "execution_count": 101,
   "source": [
    "\"\"\" Evaluating the model \"\"\"\n",
    "\n",
    "# Switching to evaluation mode\n",
    "model.eval()\n",
    "\n",
    "correct = 0\n",
    "for data, target_labels in test_loader:    \n",
    "    # data is [Batch Size = 50, Channel Size = 1, Height = 28, Width = 28] tensor\n",
    "    data = data.to(device)\n",
    "    # Tagets is label [Labels = 50] tensor\n",
    "    target_labels = target_labels.to(device)\n",
    "    \n",
    "    # getting predicted output label out of maximum probabilities' output in the tensor\n",
    "    output = model(data)\n",
    "    predicted_output_labels = output.data.max(1)[1]\n",
    "\n",
    "    # add numbers of correct predictions\n",
    "    correct += predicted_output_labels.eq(target_labels.data).sum()\n",
    "\n",
    "print('Test set: Accuracy: {:.2f}%'.format(100. * correct / len(test_loader.dataset)))"
   ],
   "outputs": [
    {
     "output_type": "stream",
     "name": "stdout",
     "text": [
      "Test set: Accuracy: 98.91%\n"
     ]
    }
   ],
   "metadata": {}
  },
  {
   "cell_type": "code",
   "execution_count": 102,
   "source": [
    "correct"
   ],
   "outputs": [
    {
     "output_type": "execute_result",
     "data": {
      "text/plain": [
       "tensor(9891)"
      ]
     },
     "metadata": {},
     "execution_count": 102
    }
   ],
   "metadata": {}
  },
  {
   "cell_type": "code",
   "execution_count": 103,
   "source": [
    "prediction.eq(target.data)"
   ],
   "outputs": [
    {
     "output_type": "execute_result",
     "data": {
      "text/plain": [
       "tensor([True, True, True, True, True, True, True, True, True, True, True, True,\n",
       "        True, True, True, True, True, True, True, True, True, True, True, True,\n",
       "        True, True, True, True, True, True, True, True, True, True, True, True,\n",
       "        True, True, True, True, True, True, True, True, True, True, True, True,\n",
       "        True, True])"
      ]
     },
     "metadata": {},
     "execution_count": 103
    }
   ],
   "metadata": {}
  },
  {
   "cell_type": "code",
   "execution_count": null,
   "source": [],
   "outputs": [],
   "metadata": {}
  }
 ],
 "metadata": {
  "interpreter": {
   "hash": "0964e3f95126ddd6db105c73e10d4f1245c8e331a9ca081f1675c5dba7db3ce0"
  },
  "kernelspec": {
   "display_name": "Python 3 (ipykernel)",
   "language": "python",
   "name": "python3"
  },
  "language_info": {
   "codemirror_mode": {
    "name": "ipython",
    "version": 3
   },
   "file_extension": ".py",
   "mimetype": "text/x-python",
   "name": "python",
   "nbconvert_exporter": "python",
   "pygments_lexer": "ipython3",
   "version": "3.8.3"
  }
 },
 "nbformat": 4,
 "nbformat_minor": 4
}