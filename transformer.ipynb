{
 "cells": [
  {
   "cell_type": "markdown",
   "source": [
    "### References\n",
    "- [Attention Is All You Need Paper](https://arxiv.org/abs/1706.03762)\n",
    "- [The Annotated Transformer Harvard blog](http://nlp.seas.harvard.edu/2018/04/03/attention.html)\n",
    "- [Jay Alammar's blog](https://jalammar.github.io/illustrated-transformer/)\n",
    "\n",
    "### Youtube Videos\n",
    "- [How do transformers work? by The AI Epiphany](https://www.youtube.com/watch?v=n9sLZPLOxG8)\n",
    "- [Attention Is All You Need (Transformer) by AI Epiphany](https://www.youtube.com/watch?v=cbYxHkgkSVs)\n",
    "  - [Neural Translation Sample Code](https://github.com/gordicaleksa/pytorch-original-transformer/blob/main/The%20Annotated%20Transformer%20%2B%2B.ipynb)\n",
    "\n"
   ],
   "metadata": {}
  },
  {
   "cell_type": "markdown",
   "source": [],
   "metadata": {}
  }
 ],
 "metadata": {
  "orig_nbformat": 4,
  "language_info": {
   "name": "python"
  }
 },
 "nbformat": 4,
 "nbformat_minor": 2
}